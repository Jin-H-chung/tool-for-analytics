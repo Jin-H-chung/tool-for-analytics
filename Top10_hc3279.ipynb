import pandas as pd
counts = df[df["Incident Zip"] == 10023]["Complaint Type"].value_counts().head(10)
counts
